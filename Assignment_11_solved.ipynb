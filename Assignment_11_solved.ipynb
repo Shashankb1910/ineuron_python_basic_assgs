{
  "nbformat": 4,
  "nbformat_minor": 0,
  "metadata": {
    "colab": {
      "provenance": []
    },
    "kernelspec": {
      "name": "python3",
      "display_name": "Python 3"
    },
    "language_info": {
      "name": "python"
    }
  },
  "cells": [
    {
      "cell_type": "markdown",
      "source": [
        "# 1. What is the role of the 'else' block in a try-except statement? Provide an example scenario where it would be useful.\n",
        "\n",
        "Ans:-\n",
        "\n",
        "*   In a try-except statement, the 'else' block is optional and follows the 'try' and 'except' blocks. Its purpose is to define a code block that should be executed only if no exceptions are raised within the 'try' block.\n",
        "*   The 'else' block is useful when you want to specify a piece of code that should run only when the 'try' block completes successfully, without any exceptions being raised.\n",
        "\n",
        "Example:-\n"
      ],
      "metadata": {
        "id": "bu3hw5yxQfZa"
      }
    },
    {
      "cell_type": "code",
      "source": [
        "def divide(a, b):\n",
        "    try:\n",
        "        result = a / b\n",
        "    except ZeroDivisionError:\n",
        "        print(\"Error: Division by zero!\")\n",
        "    else:\n",
        "        print(\"The division result is:\", result)\n",
        "\n",
        "divide(6, 2)"
      ],
      "metadata": {
        "colab": {
          "base_uri": "https://localhost:8080/"
        },
        "id": "shdu-NYHRJZo",
        "outputId": "fdd4b309-7390-47e2-fc98-bd2e7f4d9df4"
      },
      "execution_count": 5,
      "outputs": [
        {
          "output_type": "stream",
          "name": "stdout",
          "text": [
            "The division result is: 3.0\n"
          ]
        }
      ]
    },
    {
      "cell_type": "markdown",
      "source": [
        "# 2. Can a try-except block be nested inside another try-except block? Explain with an example.\n",
        "\n",
        "Ans:- Yes, a try-except block can be nested inside another try-except block.\n",
        "\n",
        "Example:-\n"
      ],
      "metadata": {
        "id": "O2p1DmZaRaHx"
      }
    },
    {
      "cell_type": "code",
      "source": [
        "try: #outer try\n",
        "    num = int(input(\"Enter a numerator: \"))\n",
        "    deno = int(input(\"Enter a denominator: \"))\n",
        "\n",
        "    try: #inner try\n",
        "        result = num / deno\n",
        "        print(\"Result:\", result)\n",
        "\n",
        "    except ZeroDivisionError:\n",
        "        print(\"Error: Division by zero is not allowed.\")\n",
        "\n",
        "except ValueError:\n",
        "    print(\"Invalid input. Please enter numeric values.\")"
      ],
      "metadata": {
        "colab": {
          "base_uri": "https://localhost:8080/"
        },
        "id": "1fH_ZdA_RKFv",
        "outputId": "4bde2df4-482b-45e8-d847-b648f98e102f"
      },
      "execution_count": 6,
      "outputs": [
        {
          "output_type": "stream",
          "name": "stdout",
          "text": [
            "Enter a numerator: 80\n",
            "Enter a denominator: 20\n",
            "Result: 4.0\n"
          ]
        }
      ]
    },
    {
      "cell_type": "markdown",
      "source": [
        "In this example, the outer try-except block handles the ValueError that may occur when the inputs are not valid integers. Inside the outer try block, there is an inner try-except block. This inner block handles the ZeroDivisionError that may occur when denominator is zero."
      ],
      "metadata": {
        "id": "7s4k5TF2TeCV"
      }
    },
    {
      "cell_type": "markdown",
      "source": [
        "#3. How can you create a custom exception class in Python? Provide an example that demonstrates its usage.\n",
        "Ans:-\n",
        "In Python, we can define custom exceptions by creating a new class that is derived from the built-in Exception class.\n",
        "\n",
        "Example:-"
      ],
      "metadata": {
        "id": "nJndOUXeT_yB"
      }
    },
    {
      "cell_type": "code",
      "source": [
        "class CustomException(Exception):\n",
        "    pass\n",
        "\n",
        "num = 18\n",
        "\n",
        "try:\n",
        "    input_num = int(input(\"Enter a number: \"))\n",
        "    if input_num < num:\n",
        "        raise CustomException\n",
        "    else:\n",
        "        print(\"Eligible to Vote\")\n",
        "\n",
        "except CustomException:\n",
        "    print(\"Exception occurred: Invalid Age\")\n"
      ],
      "metadata": {
        "colab": {
          "base_uri": "https://localhost:8080/"
        },
        "id": "7BUSOYmmTEZJ",
        "outputId": "cca9171d-5f80-4114-e89f-d14db8ea58d8"
      },
      "execution_count": 12,
      "outputs": [
        {
          "output_type": "stream",
          "name": "stdout",
          "text": [
            "Enter a number: 14\n",
            "Exception occurred: Invalid Age\n"
          ]
        }
      ]
    },
    {
      "cell_type": "markdown",
      "source": [
        "In the above example, we have defined the custom exception CustomException by creating a new class that is derived from the built-in Exception class.\n",
        "\n",
        "Here, when input_num is smaller than 18, this code generates an exception and the CustomException message is executed."
      ],
      "metadata": {
        "id": "PNQ7AyB9XdYC"
      }
    },
    {
      "cell_type": "markdown",
      "source": [
        "#4. What are some common exceptions that are built-in to Python?\n",
        "Ans:-\n",
        "\n",
        "*   **TypeError** :-   Raised when an operation or function is applied to an object of an inappropriate type.\n",
        "\n",
        "*  **ValueError** :- Raised when a function receives an argument of the correct type but an invalid value.\n",
        "\n",
        "*  **NameError** :- Raised when a local or global name is not found.\n",
        "\n",
        "\n",
        "*  **IndexError** :- Raised when a sequence subscript is out of range.\n",
        "\n",
        "\n",
        "*   **SyntaxError** :- Raised when the parser encounters a syntax error.\n",
        "\n",
        "\n",
        "*   **IndentationError** :- Raised when there is incorrect indentation.\n",
        "\n",
        "\n",
        "*  **FileNotFoundError** :- Raised when a file or directory is requested but cannot be found.\n",
        "\n",
        "\n",
        "*   **ImportError** :- Raised when an imported module or package cannot be found or loaded.\n",
        "\n",
        "\n",
        "*   **ZeroDivisionError** :- Raised when division or modulo operation is performed with zero as the divisor.\n",
        "\n",
        "\n",
        "*   **AttributeError** :- Raised when an attribute reference or assignment fails.\n",
        "\n",
        "\n",
        "*   **MemoryError** :- Raised when an operation runs out of memory.\n",
        "\n"
      ],
      "metadata": {
        "id": "L-9RUrZkX_cx"
      }
    },
    {
      "cell_type": "markdown",
      "source": [
        "#5. What is logging in Python, and why is it important in software development?\n",
        "Ans:-Logging refers to the process of monitoring events that occur during the execution of a program.\n",
        "\n",
        " Logging is important in software develpoment because by using it we can perform several crucial tasks like Debugging & troubleshooting , performance optimization , monitoring and alerting ,etc."
      ],
      "metadata": {
        "id": "AgmYuvbjd29C"
      }
    },
    {
      "cell_type": "markdown",
      "source": [
        "#6. Explain the purpose of log levels in Python logging and provide examples of when each log level would be appropriate.\n",
        "Ans:-\n",
        "In Python, log levels are used to categorize log messages based on their severity or importance.\n",
        "\n",
        "*   **DEBUG:**  It is typically used during development for detailed information and debugging.\n",
        "\n",
        "*Example*:  Logging variable values, function calls, or other detailed information to track program execution flow and identify specific issues.\n",
        "\n",
        "*   **INFO:** Used for general information about the program's execution. It provides high-level information to indicate the progress and status of the application.\n",
        "\n",
        "*Example:* Logging startup messages, configuration details, or important milestones reached during program execution.\n",
        "\n",
        "*   **WARNING:** Indicates potentially harmful or unexpected situations that do not prevent the program from functioning but might require attention. Warnings help identify potential issues or risky conditions.\n",
        "\n",
        "*Example:* Logging deprecated function usage, non-critical failures, or unusual behavior that might lead to problems.\n",
        "\n",
        "*  **ERROR:** Indicates errors that prevent certain parts of the program from functioning correctly. These are typically exceptions or failures that impact the program's expected behavior.\n",
        "\n",
        "*Example:* Logging unhandled exceptions, failed operations, or critical errors that require immediate attention.\n",
        "\n",
        "\n",
        "*   **CRITICAL:** The highest log level, reserved for the most severe errors or critical issues that can lead to program failure or data loss. These messages typically demand immediate attention.\n",
        "\n",
        "*Example:* Logging critical failures, security breaches, or any condition that requires immediate intervention.\n",
        "\n"
      ],
      "metadata": {
        "id": "uSHcW3KZfU5F"
      }
    },
    {
      "cell_type": "markdown",
      "source": [
        "#7. What are log formatters in Python logging, and how can you customize the log message format using formatters?\n",
        "Ans:- In Python logging, log formatters are used to define the structure and format of log messages. They allow developers to customize how the log messages are displayed, including the inclusion of timestamps, log levels, loggers' names, and additional contextual information.The logging module provides a Formatter class that serves as the base class for creating log formatters. This class allows you to define a format string that specifies the desired layout and content of log messages.\n",
        "\n"
      ],
      "metadata": {
        "id": "rJaY0_AssBCc"
      }
    },
    {
      "cell_type": "code",
      "source": [
        "import logging\n",
        "\n",
        "logging.basicConfig(format='%(asctime)s - %(message)s', datefmt='%d-%b-%y %H:%M:%S')\n",
        "logging.warning('Admin logged out')"
      ],
      "metadata": {
        "colab": {
          "base_uri": "https://localhost:8080/"
        },
        "id": "6XkOm8pvwC2n",
        "outputId": "49746d44-b1d0-46b9-f9f1-1460b2a75581"
      },
      "execution_count": 7,
      "outputs": [
        {
          "output_type": "stream",
          "name": "stderr",
          "text": [
            "WARNING:root:Admin logged out\n"
          ]
        }
      ]
    },
    {
      "cell_type": "markdown",
      "source": [
        "#8. How can you set up logging to capture log messages from multiple modules or classes in a Python application?\n",
        "Ans:-\n",
        "\n",
        "**1. Import the logging module:**\n",
        "\n",
        "   `import logging`\n",
        "\n",
        "\n",
        "**2. Configure the logging system:**\n",
        "\n",
        "`logging.basicConfig(level=logging.DEBUG, format='%(asctime)s - %(name)s - %(levelname)s - %(message)s')`\n",
        "\n",
        "This example configures the logging system to log messages at the DEBUG level and includes the timestamp, logger name, log level, and log message in the log output. You can modify the format string as per your requirements.\n",
        "\n",
        "\n",
        "\n",
        "**3. Define a logger for each module or class:**\n",
        "\n",
        "`logger = logging.getLogger(__name__)`\n",
        "\n",
        "Using the __name__ variable as the logger name ensures that the log messages are associated with the respective module or class.\n",
        "\n",
        "\n",
        "\n",
        "**4. Log messages from the modules or classes:**\n",
        "\n",
        "```\n",
        "logger.debug('This is a debug message')\n",
        "logger.info('This is an info message')\n",
        "logger.warning('This is a warning message')\n",
        "logger.error('This is an error message')\n",
        "```\n"
      ],
      "metadata": {
        "id": "w9Z72jdd11tr"
      }
    },
    {
      "cell_type": "markdown",
      "source": [
        "#9. What is the difference between the logging and print statements in Python? When should you use logging over print statements in a real-world application?\n",
        "Ans:-\n",
        "1.\n",
        "* Logging is specifically designed for generating log messages and capturing information about an application's behavior, progress, and errors.\n",
        "* Print statements are primarily used for simple output during development or debugging.\n",
        "2.\n",
        "* Logging allows for extensive configuration, including log levels, custom log formats, and directing log messages to different outputs.\n",
        "* Print statements have limited configurability and usually output directly to the console.\n",
        "3.\n",
        "* During development and debugging, print statements can be useful for quick output of variable values or messages.\n",
        "* However, for more controlled and configurable logging, it is recommended to switch to using the logging module."
      ],
      "metadata": {
        "id": "CX-k_aeE6vsZ"
      }
    },
    {
      "cell_type": "markdown",
      "source": [
        "#10. Write a Python program that logs a message to a file named \"app.log\" with the following requirements:\n",
        "● The log message should be \"Hello, World!\"\n",
        "● The log level should be set to \"INFO.\"\n",
        "● The log file should append new log entries without overwriting previous ones.\n"
      ],
      "metadata": {
        "id": "_mSn96FU8NHr"
      }
    },
    {
      "cell_type": "code",
      "source": [
        "import logging\n",
        "\n",
        "logging.basicConfig(filename='app.log',\n",
        "                    level=logging.INFO,\n",
        "                    filemode='a',\n",
        "                    format='%(asctime)s - %(levelname)s - %(message)s')\n",
        "\n",
        "logging.info('Hello, World!')  #log message"
      ],
      "metadata": {
        "id": "v-7tjwT21aoR"
      },
      "execution_count": 9,
      "outputs": []
    },
    {
      "cell_type": "markdown",
      "source": [
        "#11. Create a Python program that logs an error message to the console and a file named \"errors.log\" if an exception occurs during the program's execution. The error message should include the exception type and a timestamp."
      ],
      "metadata": {
        "id": "aqjmfLib89Ns"
      }
    },
    {
      "cell_type": "code",
      "source": [
        "import logging\n",
        "import datetime\n",
        "\n",
        "logging.basicConfig(filename='errors.log', level=logging.ERROR,\n",
        "                    format='%(asctime)s %(levelname)s: %(message)s',\n",
        "                    datefmt='%Y-%m-%d %H:%M:%S')\n",
        "\n",
        "def divide_numbers(a, b):\n",
        "    try:\n",
        "        result = a / b\n",
        "        return result\n",
        "\n",
        "    except Exception as e:\n",
        "        timestamp = datetime.datetime.now().strftime('%Y-%m-%d %H:%M:%S')\n",
        "\n",
        "        error_message = f\"{timestamp} {type(e).__name__}: {str(e)}\"\n",
        "\n",
        "        print(error_message)\n",
        "\n",
        "        logging.error(error_message)\n",
        "\n",
        "divide_numbers(10, 0)\n"
      ],
      "metadata": {
        "colab": {
          "base_uri": "https://localhost:8080/"
        },
        "id": "LdQUe2Ec8fFa",
        "outputId": "5b43505e-bff8-4aeb-d7b3-e5bdb92c8b88"
      },
      "execution_count": 18,
      "outputs": [
        {
          "output_type": "stream",
          "name": "stderr",
          "text": [
            "ERROR:root:2023-07-05 07:34:30 ZeroDivisionError: division by zero\n"
          ]
        },
        {
          "output_type": "stream",
          "name": "stdout",
          "text": [
            "2023-07-05 07:34:30 ZeroDivisionError: division by zero\n"
          ]
        }
      ]
    },
    {
      "cell_type": "code",
      "source": [],
      "metadata": {
        "id": "SZIHBwK99p0i"
      },
      "execution_count": null,
      "outputs": []
    }
  ]
}