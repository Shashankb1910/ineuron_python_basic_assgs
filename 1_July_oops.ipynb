{
  "nbformat": 4,
  "nbformat_minor": 0,
  "metadata": {
    "colab": {
      "provenance": []
    },
    "kernelspec": {
      "name": "python3",
      "display_name": "Python 3"
    },
    "language_info": {
      "name": "python"
    }
  },
  "cells": [
    {
      "cell_type": "markdown",
      "source": [
        "# 1. What is the primary goal of Object-Oriented Programming (OOP)?\n",
        "Ans:-  Object Oriented programming language is based on classes and objects. It is used to structure a program into a simple, reusable piece of code. The entire software program runs by having multiple objects interact with objects to create large programs.\n",
        "\n",
        "Goals of object-oriented programming language :\n",
        "\n",
        "* Adaptability - The software may run on different generations and grow over a long lifetime.\n",
        "* To reuse the code in which child classes use the base class's properties.\n",
        "* To hold entire data into a single object such that it would be easy to pass this to other methods and objects.\n",
        "* Multiprocessing is also in object-oriented programming.\n",
        "* Binding of data to avoid data loss.\n",
        "* Robustness - it means complex programs should operate correctly."
      ],
      "metadata": {
        "id": "PzKktYWK3326"
      }
    },
    {
      "cell_type": "markdown",
      "source": [
        "# 2. What is an object in Python?\n",
        "Ans:- Python is an object-oriented programming language. Everything is in Python treated as an object, including variable, function, list, tuple, dictionary, set, etc. Every object belongs to its class. For example - An integer variable belongs to integer class. An object is a real-life entity. An object is the collection of various data and functions that operate on those data.\n",
        "\n",
        "The classes and objects are the essential key to the object-oriented programming. Classes are the blueprint of the object. Classes are used to bundling the data and functionality together. Each newly created class must have its object. Let's understand real-life example of class and object.\n",
        "\n",
        "A human is a class which may have may attributes such as walking, sleeping, thinking, etc. Suppose we want to name and age of 100 humans, so we don't need to create a class for every person. We just need to instantiate the multiple objects of that perticular class."
      ],
      "metadata": {
        "id": "F2h8GS6I8i_i"
      }
    },
    {
      "cell_type": "markdown",
      "source": [
        "# 3. What is a class in Python?\n",
        "Ans:- A class is a user-defined data type that contains both the data itself and the methods that may be used to manipulate it. In a sense, classes serve as a template to create objects. They provide the characteristics and operations that the objects will employ.\n",
        "\n",
        "Suppose a class is a prototype of a building. A building contains all the details about the floor, rooms, doors, windows, etc. we can make as many buildings as we want, based on these details. Hence, the building can be seen as a class, and we can create as many objects of this class."
      ],
      "metadata": {
        "id": "M9vXebKsDg5b"
      }
    },
    {
      "cell_type": "markdown",
      "source": [
        "# 4. What are attributes and methods in a class?\n",
        "Ans:-\n",
        "\n",
        "1. **Attributes:**\n",
        "\n",
        "   Attributes represent the characteristics or data associated with a class. They are essentially variables that store data and define the state of an object. Attributes are also referred to as properties or instance variables. Each object created from a class has its own set of attribute values.\n",
        "\n",
        "\n",
        "For example, consider a class called \"Car.\" It may have attributes like \"color,\" \"model,\" \"year,\" and \"mileage.\" Each instance of the Car class would have its own set of values for these attributes.\n",
        "\n",
        "\n",
        "2. **Methods:**\n",
        "\n",
        "  Methods are functions that define the behavior or actions that an object can perform. They operate on the attributes of an object and can manipulate its state or provide functionality. Methods are defined within a class and are associated with objects created from that class.\n",
        "\n",
        "Continuing with the Car class example, methods could include \"start_engine,\" \"accelerate,\" \"brake,\" and \"get_mileage.\" These methods would define how a car object starts the engine, accelerates or brakes, and retrieves its current mileage."
      ],
      "metadata": {
        "id": "W7Sy-0m9EXFs"
      }
    },
    {
      "cell_type": "markdown",
      "source": [
        "# 5. What is the difference between class variables and instance variables in Python?\n",
        "Ans:-\n",
        "\n",
        "*  **Class variables:** These are like shared information among all the objects of a class. They are declared\n",
        "outside any methods in the class. Class variables have the same value for all objects. They are used for\n",
        "storing data that is common to all instances of the class. Changes made to class variables affect all objects.\n",
        "\n",
        "* **Instance variables:** These are personal data for each object of a class. They are declared within the methods\n",
        "of the class and use the \"self\" keyword. Instance variables hold data that can be different for each object.\n",
        "Each object has its own copy of instance variables. Changes made to instance variables only affect the\n",
        "specific object they belong to.\n",
        "\n",
        "In simpler words, class variables are like shared information, while instance variables are personal data for\n",
        "each object."
      ],
      "metadata": {
        "id": "qU2fvL8WG0Zm"
      }
    },
    {
      "cell_type": "markdown",
      "source": [
        "# 6. What is the purpose of the self-parameter in Python class methods?\n",
        "Ans:- In Python, the self parameter is a convention used to refer to the instance of a class within its methods. It is the first parameter of instance methods and represents the instance itself.By using the self parameter, you can access the attributes and methods of the instance within the class methods. It allows you to manipulate the state of the instance and perform operations specific to that instance.\n",
        "\n",
        "For Example:-"
      ],
      "metadata": {
        "id": "L5oUjfdLIsBA"
      }
    },
    {
      "cell_type": "code",
      "source": [
        "class Car:\n",
        "    def __init__(self, brand, color):\n",
        "        self.brand = brand\n",
        "        self.color = color\n",
        "\n",
        "    def get_description(self):\n",
        "        return f\"This {self.color} car is a {self.brand}.\"\n",
        "\n",
        "my_car = Car(\"Toyota\", \"blue\")\n",
        "print(my_car.get_description())"
      ],
      "metadata": {
        "colab": {
          "base_uri": "https://localhost:8080/"
        },
        "id": "f-ULNU5_Gc3J",
        "outputId": "491dc9ec-462d-45bd-d034-a697bb2af08b"
      },
      "execution_count": 1,
      "outputs": [
        {
          "output_type": "stream",
          "name": "stdout",
          "text": [
            "This blue car is a Toyota.\n"
          ]
        }
      ]
    },
    {
      "cell_type": "markdown",
      "source": [
        "In the above example, the self parameter is used within the get_description() method to access the brand and color attributes of the instance. When my_car.get_description() is called, self refers to the my_car instance, and the method returns a description based on the instance's brand and color."
      ],
      "metadata": {
        "id": "mrN1cd4nJr-9"
      }
    },
    {
      "cell_type": "markdown",
      "source": [
        "# 7. For a library management system, you have to design the \"Book\" class with OOP principles in mind. The “Book” class will have following attributes:\n",
        "a. title: Represents the title of the book.\n",
        "\n",
        "b. author: Represents the author(s) of the book.\n",
        "\n",
        "c. isbn: Represents the ISBN (International Standard Book Number) of the book.\n",
        "\n",
        "d. publication_year: Represents the year of publication of the book.\n",
        "\n",
        "e. available_copies: Represents the number of copies available for checkout.\n",
        "\n",
        "# The class will also include the following methods:\n",
        "\n",
        "a. check_out(self): Decrements the available copies by one if there are copies\n",
        "available for checkout.\n",
        "\n",
        "b. return_book(self): Increments the available copies by one when a book is\n",
        "returned.\n",
        "\n",
        "c. display_book_info(self): Displays the information about the book, including its\n",
        "attributes and the number of available copies.\n"
      ],
      "metadata": {
        "id": "gFpVoOqMJ2dr"
      }
    },
    {
      "cell_type": "code",
      "source": [
        "class Book:\n",
        "    def __init__(self, title, author, isbn, publication_year, available_copies):\n",
        "        self.title = title\n",
        "        self.author = author\n",
        "        self.isbn = isbn\n",
        "        self.publication_year = publication_year\n",
        "        self.available_copies = available_copies\n",
        "\n",
        "    def check_out(self):\n",
        "        if self.available_copies > 0:\n",
        "            self.available_copies -= 1\n",
        "            print(f\"\\nBook '{self.title}' checked out successfully. \")\n",
        "        else:\n",
        "            print(f\"\\n Book '{self.title}' is currently not available for checkout.\")\n",
        "\n",
        "    def return_book(self):\n",
        "        self.available_copies += 1\n",
        "        print(f\"\\nBook '{self.title}' returned successfully. \")\n",
        "\n",
        "    def display_book_info(self):\n",
        "        print(\"Book Information:\")\n",
        "        print(f\"Title: {self.title}\")\n",
        "        print(f\"Author(s): {self.author}\")\n",
        "        print(f\"ISBN: {self.isbn}\")\n",
        "        print(f\"Publication Year: {self.publication_year}\")\n",
        "        print(f\"Available Copies: {self.available_copies}\")\n",
        "\n",
        "# Example usage:\n",
        "book1 = Book(\"2 states\", \"Chetan Bhagat\", \"8560316545264\", 2012, 5)\n",
        "book1.display_book_info()  # Display initial book information\n",
        "book1.check_out()  # Check out a book\n",
        "book1.display_book_info()  # Display updated book information\n",
        "book1.return_book()  # Return the book\n",
        "book1.display_book_info()  # Display updated book information\n"
      ],
      "metadata": {
        "colab": {
          "base_uri": "https://localhost:8080/"
        },
        "id": "uqooiPM5Jq7u",
        "outputId": "10e796b1-2b09-41da-b5fd-1e307f128474"
      },
      "execution_count": 10,
      "outputs": [
        {
          "output_type": "stream",
          "name": "stdout",
          "text": [
            "Book Information:\n",
            "Title: 2 states\n",
            "Author(s): Chetan Bhagat\n",
            "ISBN: 8560316545264\n",
            "Publication Year: 2012\n",
            "Available Copies: 5\n",
            "\n",
            "Book '2 states' checked out successfully. \n",
            "Book Information:\n",
            "Title: 2 states\n",
            "Author(s): Chetan Bhagat\n",
            "ISBN: 8560316545264\n",
            "Publication Year: 2012\n",
            "Available Copies: 4\n",
            "\n",
            "Book '2 states' returned successfully. \n",
            "Book Information:\n",
            "Title: 2 states\n",
            "Author(s): Chetan Bhagat\n",
            "ISBN: 8560316545264\n",
            "Publication Year: 2012\n",
            "Available Copies: 5\n"
          ]
        }
      ]
    },
    {
      "cell_type": "markdown",
      "source": [
        "# 8. For a ticket booking system, you have to design the \"Ticket\" class with OOP principles in mind. The “Ticket” class should have the following attributes:\n",
        "a. ticket_id: Represents the unique identifier for the ticket.\n",
        "\n",
        "b. event_name: Represents the name of the event.\n",
        "\n",
        "c. event_date: Represents the date of the event.\n",
        "\n",
        "d. venue: Represents the venue of the event.\n",
        "\n",
        "e. seat_number: Represents the seat number associated with the ticket.\n",
        "\n",
        "f. price: Represents the price of the ticket.\n",
        "\n",
        "g. is_reserved: Represents the reservation status of the ticket.\n",
        "\n",
        "# The class also includes the following methods:\n",
        "\n",
        "a. reserve_ticket(self): Marks the ticket as reserved if it is not already reserved.\n",
        "\n",
        "b. cancel_reservation(self): Cancels the reservation of the ticket if it is already\n",
        "reserved.\n",
        "\n",
        "c. display_ticket_info(self): Displays the information about the ticket, including its\n",
        "attributes and reservation status.\n"
      ],
      "metadata": {
        "id": "Y3RbTAWfVH1H"
      }
    },
    {
      "cell_type": "code",
      "source": [
        "class Ticket:\n",
        "  def __init__(self, ticket_id, event_name, event_date, venue, seat_number, price):\n",
        "      self.ticket_id = ticket_id\n",
        "      self.event_name = event_name\n",
        "      self.event_date = event_date\n",
        "      self.venue = venue\n",
        "      self.seat_number = seat_number\n",
        "      self.price = price\n",
        "      self.is_reserved = False\n",
        "\n",
        "  def reserve_ticket(self):\n",
        "           if not self.is_reserved:\n",
        "            self.is_reserved = True\n",
        "            print(\"\\nTicket reserved successfully.\")\n",
        "           else:\n",
        "            print(\"Ticket is already reserved.\")\n",
        "\n",
        "  def cancel_reservation(self):\n",
        "        if self.is_reserved:\n",
        "            self.is_reserved = False\n",
        "            print(\"\\nTicket reservation canceled successfully.\")\n",
        "        else:\n",
        "            print(\"Ticket is not currently reserved.\")\n",
        "\n",
        "  def display_ticket_info(self):\n",
        "        print(\"Ticket Information:\")\n",
        "        print(f\"Ticket ID: {self.ticket_id}\")\n",
        "        print(f\"Event Name: {self.event_name}\")\n",
        "        print(f\"Event Date: {self.event_date}\")\n",
        "        print(f\"Venue: {self.venue}\")\n",
        "        print(f\"Seat Number: {self.seat_number}\")\n",
        "        print(f\"Price: {self.price}\")\n",
        "        print(f\"Reservation Status: {'Reserved' if self.is_reserved else 'Not Reserved'}\")\n",
        "\n",
        "\n",
        "# Example usage:\n",
        "ticket1 = Ticket(\"A1254\", \"Laughter club\", \"28-07-2023\", \"Dragonfly Mumbai\", \"D07\", 499)\n",
        "ticket1.display_ticket_info()  # Display initial ticket information\n",
        "ticket1.reserve_ticket()  # Reserve the ticket\n",
        "ticket1.display_ticket_info()  # Display updated ticket information\n",
        "ticket1.cancel_reservation()  # Cancel the reservation\n",
        "ticket1.display_ticket_info()  # Display updated ticket information"
      ],
      "metadata": {
        "colab": {
          "base_uri": "https://localhost:8080/"
        },
        "id": "s5nZIlLRTYto",
        "outputId": "f25d1e99-09b0-42a4-8d9a-b9ee5c1eb4e8"
      },
      "execution_count": 15,
      "outputs": [
        {
          "output_type": "stream",
          "name": "stdout",
          "text": [
            "Ticket Information:\n",
            "Ticket ID: A1254\n",
            "Event Name: Laughter club\n",
            "Event Date: 28-07-2023\n",
            "Venue: Dragonfly Mumbai\n",
            "Seat Number: D07\n",
            "Price: 499\n",
            "Reservation Status: Not Reserved\n",
            "\n",
            "Ticket reserved successfully.\n",
            "Ticket Information:\n",
            "Ticket ID: A1254\n",
            "Event Name: Laughter club\n",
            "Event Date: 28-07-2023\n",
            "Venue: Dragonfly Mumbai\n",
            "Seat Number: D07\n",
            "Price: 499\n",
            "Reservation Status: Reserved\n",
            "\n",
            "Ticket reservation canceled successfully.\n",
            "Ticket Information:\n",
            "Ticket ID: A1254\n",
            "Event Name: Laughter club\n",
            "Event Date: 28-07-2023\n",
            "Venue: Dragonfly Mumbai\n",
            "Seat Number: D07\n",
            "Price: 499\n",
            "Reservation Status: Not Reserved\n"
          ]
        }
      ]
    },
    {
      "cell_type": "markdown",
      "source": [
        "# 9. You are creating a shopping cart for an e-commerce website. Using OOP to model the \"ShoppingCart\" functionality the class should contain following attributes and methods:\n",
        "a. items: Represents the list of items in the shopping cart.\n",
        "\n",
        "The class also includes the following methods:\n",
        "\n",
        "a. add_item(self, item): Adds an item to the shopping cart by appending it to the\n",
        "list of items.\n",
        "\n",
        "b. remove_item(self, item): Removes an item from the shopping cart if it exists in\n",
        "the list.\n",
        "\n",
        "c. view_cart(self): Displays the items currently present in the shopping cart.1\n",
        "\n",
        "d. clear_cart(self): Clears all items from the shopping cart by reassigning an\n",
        "empty list to the items attribute."
      ],
      "metadata": {
        "id": "qoXWRXwQYnRk"
      }
    },
    {
      "cell_type": "code",
      "source": [
        "class ShoppingCart:\n",
        "    def __init__(self):\n",
        "        self.items = []\n",
        "\n",
        "    def add_item(self, item):\n",
        "        self.items.append(item)\n",
        "        print(f\"Item '{item}' added to the shopping cart.\")\n",
        "\n",
        "    def remove_item(self, item):\n",
        "        if item in self.items:\n",
        "            self.items.remove(item)\n",
        "            print(f\"\\nItem '{item}' removed from the shopping cart.\")\n",
        "        else:\n",
        "            print(f\"\\nItem '{item}' is not present in the shopping cart.\")\n",
        "\n",
        "    def view_cart(self):\n",
        "        if self.items:\n",
        "            print(\"\\nItems in the shopping cart:\")\n",
        "            for item in self.items:\n",
        "                print(item)\n",
        "        else:\n",
        "            print(\"\\nThe shopping cart is empty.\\n\")\n",
        "\n",
        "    def clear_cart(self):\n",
        "        self.items = []\n",
        "        print(\"\\nThe shopping cart is cleared.\")\n",
        "\n",
        "\n",
        "# Example usage:\n",
        "cart = ShoppingCart()\n",
        "\n",
        "cart.view_cart()  # Display initial cart items (empty)\n",
        "cart.add_item(\"Pringles\")  # Add an item to the cart\n",
        "cart.add_item(\"Maggie\")  # Add another item to the cart\n",
        "cart.add_item(\"Cheese\")  # Add another item to the cart\n",
        "cart.add_item(\"Ketchup\")  # Add another item to the cart\n",
        "\n",
        "cart.view_cart()  # Display updated cart items\n",
        "\n",
        "cart.remove_item(\"Cheese\")  # Remove an item from the cart\n",
        "cart.view_cart()  # Display updated cart items\n",
        "\n",
        "cart.clear_cart()  # Clear the cart\n",
        "cart.view_cart()  # Display updated cart items (empty)"
      ],
      "metadata": {
        "colab": {
          "base_uri": "https://localhost:8080/"
        },
        "id": "Cj3-pQ70X2Cd",
        "outputId": "f688a017-5028-4dc3-b815-0dc483c73d00"
      },
      "execution_count": 28,
      "outputs": [
        {
          "output_type": "stream",
          "name": "stdout",
          "text": [
            "\n",
            "The shopping cart is empty.\n",
            "\n",
            "Item 'Pringles' added to the shopping cart.\n",
            "Item 'Maggie' added to the shopping cart.\n",
            "Item 'Cheese' added to the shopping cart.\n",
            "Item 'Ketchup' added to the shopping cart.\n",
            "\n",
            "Items in the shopping cart:\n",
            "Pringles\n",
            "Maggie\n",
            "Cheese\n",
            "Ketchup\n",
            "\n",
            "Item 'Cheese' removed from the shopping cart.\n",
            "\n",
            "Items in the shopping cart:\n",
            "Pringles\n",
            "Maggie\n",
            "Ketchup\n",
            "\n",
            "The shopping cart is cleared.\n",
            "\n",
            "The shopping cart is empty.\n",
            "\n"
          ]
        }
      ]
    },
    {
      "cell_type": "markdown",
      "source": [
        "# 10. Imagine a school management system. You have to design the \"Student\" class using OOP concepts.The “Student” class has the following attributes:\n",
        "a. name: Represents the name of the student.\n",
        "\n",
        "b. age: Represents the age of the student.\n",
        "\n",
        "c. grade: Represents the grade or class of the student.\n",
        "\n",
        "d. student_id: Represents the unique identifier for the student.\n",
        "\n",
        "e. attendance: Represents the attendance record of the student.\n",
        "\n",
        "# The class should also include the following methods:\n",
        "\n",
        "a. update_attendance(self, date, status): Updates the attendance record of the\n",
        "student for a given date with the provided status (e.g., present or absent).\n",
        "\n",
        "b. get_attendance(self): Returns the attendance record of the student.\n",
        "\n",
        "c. get_average_attendance(self): Calculates and returns the average\n",
        "attendance percentage of the student based on their attendance record.\n"
      ],
      "metadata": {
        "id": "c0fniaedaSWs"
      }
    },
    {
      "cell_type": "code",
      "source": [
        "class Student:\n",
        "    def __init__(self, name, age, grade, student_id):\n",
        "        self.name = name\n",
        "        self.age = age\n",
        "        self.grade = grade\n",
        "        self.student_id = student_id\n",
        "        self.attendance = {}\n",
        "\n",
        "    def update_attendance(self, date, status):\n",
        "        self.attendance[date] = status\n",
        "\n",
        "    def get_attendance(self):\n",
        "        return self.attendance\n",
        "\n",
        "    def get_average_attendance(self):\n",
        "        total_days = len(self.attendance)\n",
        "        if total_days == 0:\n",
        "            return 0.0\n",
        "        present_days = sum(1 for status in self.attendance.values() if status == 'present')\n",
        "        attendance_percentage = (present_days / total_days) * 100\n",
        "        return attendance_percentage\n",
        "\n",
        "\n",
        "# Example usage:\n",
        "student1 = Student(\"Tapu\", 14, \"9th Grade\", \"9A24\")\n",
        "student1.update_attendance(\"01-07-2023\", \"present\")\n",
        "student1.update_attendance(\"02-07-2023\", \"absent\")\n",
        "student1.update_attendance(\"03-07-2023\", \"present\")\n",
        "student1.update_attendance(\"04-07-2023\", \"absent\")\n",
        "\n",
        "attendance_record = student1.get_attendance()\n",
        "print(\"Attendance record : \" ,attendance_record)\n",
        "\n",
        "average_attendance = student1.get_average_attendance()\n",
        "print(\"Average ateendance : \",average_attendance)"
      ],
      "metadata": {
        "colab": {
          "base_uri": "https://localhost:8080/"
        },
        "id": "iMyjVTy7ZYMG",
        "outputId": "1929027c-3769-48eb-f70f-bfe3b391ffab"
      },
      "execution_count": 27,
      "outputs": [
        {
          "output_type": "stream",
          "name": "stdout",
          "text": [
            "Attendance record :  {'01-07-2023': 'present', '02-07-2023': 'absent', '03-07-2023': 'present', '04-07-2023': 'absent'}\n",
            "Average ateendance :  50.0\n"
          ]
        }
      ]
    }
  ]
}