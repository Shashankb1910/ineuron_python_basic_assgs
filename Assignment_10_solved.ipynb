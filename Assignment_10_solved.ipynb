{
  "nbformat": 4,
  "nbformat_minor": 0,
  "metadata": {
    "colab": {
      "provenance": []
    },
    "kernelspec": {
      "name": "python3",
      "display_name": "Python 3"
    },
    "language_info": {
      "name": "python"
    }
  },
  "cells": [
    {
      "cell_type": "markdown",
      "source": [
        "#1. What is the role of try and exception block?\n",
        "Ans:-\n",
        "try-except block is used in programming to handle and manage exceptions or errors that may occur during program execution. The try block is used to check some code for errors i.e the code inside the try block will execute when there is no error in the program. Whereas the code inside the except block will execute whenever the program encounters some error in the preceding try block.\n"
      ],
      "metadata": {
        "id": "ihl9nHxep8wI"
      }
    },
    {
      "cell_type": "markdown",
      "source": [
        "#2. What is the syntax for a basic try-except block?\n",
        "Ans:-"
      ],
      "metadata": {
        "id": "0DY-1zlBxOpt"
      }
    },
    {
      "cell_type": "code",
      "source": [
        "try:\n",
        "    # Code\n",
        "except ExceptionType:\n",
        "    # Code"
      ],
      "metadata": {
        "id": "EN9eQ0nsxjvT"
      },
      "execution_count": 4,
      "outputs": []
    },
    {
      "cell_type": "markdown",
      "source": [
        "#3. What happens if an exception occurs inside a try block and there is no matching except block?\n"
      ],
      "metadata": {
        "id": "ee5qpCtQyRPz"
      }
    },
    {
      "cell_type": "markdown",
      "source": [
        "Ans:- If an exception occurs at the particular statement in the try block, the rest of the block code will not execute and display an error message."
      ],
      "metadata": {
        "id": "VYc-njcy2XNU"
      }
    },
    {
      "cell_type": "code",
      "source": [
        "def divide_numbers(a, b):\n",
        "    try:\n",
        "        result = a / b\n",
        "        return result\n",
        "    except ValueError:\n",
        "        print(\"ValueError occurred!\")\n",
        "\n",
        "result = divide_numbers(10, 0)\n",
        "print(\"Result:\", result)"
      ],
      "metadata": {
        "colab": {
          "base_uri": "https://localhost:8080/",
          "height": 339
        },
        "id": "NWNewZbBxlKs",
        "outputId": "ea60290c-5e88-4d75-e486-cdf5f20778a0"
      },
      "execution_count": 5,
      "outputs": [
        {
          "output_type": "error",
          "ename": "ZeroDivisionError",
          "evalue": "ignored",
          "traceback": [
            "\u001b[0;31m---------------------------------------------------------------------------\u001b[0m",
            "\u001b[0;31mZeroDivisionError\u001b[0m                         Traceback (most recent call last)",
            "\u001b[0;32m<ipython-input-5-84a106a3c8f5>\u001b[0m in \u001b[0;36m<cell line: 9>\u001b[0;34m()\u001b[0m\n\u001b[1;32m      7\u001b[0m     \u001b[0;31m# No except block for ZeroDivisionError\u001b[0m\u001b[0;34m\u001b[0m\u001b[0;34m\u001b[0m\u001b[0m\n\u001b[1;32m      8\u001b[0m \u001b[0;34m\u001b[0m\u001b[0m\n\u001b[0;32m----> 9\u001b[0;31m \u001b[0mresult\u001b[0m \u001b[0;34m=\u001b[0m \u001b[0mdivide_numbers\u001b[0m\u001b[0;34m(\u001b[0m\u001b[0;36m10\u001b[0m\u001b[0;34m,\u001b[0m \u001b[0;36m0\u001b[0m\u001b[0;34m)\u001b[0m\u001b[0;34m\u001b[0m\u001b[0;34m\u001b[0m\u001b[0m\n\u001b[0m\u001b[1;32m     10\u001b[0m \u001b[0mprint\u001b[0m\u001b[0;34m(\u001b[0m\u001b[0;34m\"Result:\"\u001b[0m\u001b[0;34m,\u001b[0m \u001b[0mresult\u001b[0m\u001b[0;34m)\u001b[0m\u001b[0;34m\u001b[0m\u001b[0;34m\u001b[0m\u001b[0m\n",
            "\u001b[0;32m<ipython-input-5-84a106a3c8f5>\u001b[0m in \u001b[0;36mdivide_numbers\u001b[0;34m(a, b)\u001b[0m\n\u001b[1;32m      1\u001b[0m \u001b[0;32mdef\u001b[0m \u001b[0mdivide_numbers\u001b[0m\u001b[0;34m(\u001b[0m\u001b[0ma\u001b[0m\u001b[0;34m,\u001b[0m \u001b[0mb\u001b[0m\u001b[0;34m)\u001b[0m\u001b[0;34m:\u001b[0m\u001b[0;34m\u001b[0m\u001b[0;34m\u001b[0m\u001b[0m\n\u001b[1;32m      2\u001b[0m     \u001b[0;32mtry\u001b[0m\u001b[0;34m:\u001b[0m\u001b[0;34m\u001b[0m\u001b[0;34m\u001b[0m\u001b[0m\n\u001b[0;32m----> 3\u001b[0;31m         \u001b[0mresult\u001b[0m \u001b[0;34m=\u001b[0m \u001b[0ma\u001b[0m \u001b[0;34m/\u001b[0m \u001b[0mb\u001b[0m\u001b[0;34m\u001b[0m\u001b[0;34m\u001b[0m\u001b[0m\n\u001b[0m\u001b[1;32m      4\u001b[0m         \u001b[0;32mreturn\u001b[0m \u001b[0mresult\u001b[0m\u001b[0;34m\u001b[0m\u001b[0;34m\u001b[0m\u001b[0m\n\u001b[1;32m      5\u001b[0m     \u001b[0;32mexcept\u001b[0m \u001b[0mValueError\u001b[0m\u001b[0;34m:\u001b[0m\u001b[0;34m\u001b[0m\u001b[0;34m\u001b[0m\u001b[0m\n",
            "\u001b[0;31mZeroDivisionError\u001b[0m: division by zero"
          ]
        }
      ]
    },
    {
      "cell_type": "markdown",
      "source": [
        "#4. What is the difference between using a bare except block and specifying a specific exception type?\n",
        "Ans:-\n",
        "\n",
        "**(1) Bare except for block:**\n",
        "\n",
        " Using a bare except block means that the block will catch and handle any exception, regardless of its type. This can be problematic because it makes it difficult to determine the exact cause of the exception or implement specific error-handling logic.\n",
        "\n",
        "Example:-\n"
      ],
      "metadata": {
        "id": "R6vSlL972xxL"
      }
    },
    {
      "cell_type": "code",
      "source": [
        "try:\n",
        "    result = 10 / 0\n",
        "except:\n",
        "    # Exception handling code\n",
        "    print(\"An error occurred!\")"
      ],
      "metadata": {
        "colab": {
          "base_uri": "https://localhost:8080/"
        },
        "id": "707ZToCdzQk-",
        "outputId": "1f1d29f4-368a-414b-ede6-00909d1a395b"
      },
      "execution_count": 1,
      "outputs": [
        {
          "output_type": "stream",
          "name": "stdout",
          "text": [
            "An error occurred!\n"
          ]
        }
      ]
    },
    {
      "cell_type": "markdown",
      "source": [
        "In this example, the except block will catch any exception that occurs within the try block. It will print \"An error occurred!\" regardless of the actual exception type.\n",
        "\n"
      ],
      "metadata": {
        "id": "QhR_90YFm4Xb"
      }
    },
    {
      "cell_type": "markdown",
      "source": [
        "**(2) Specifying a specific exception type:**\n",
        "\n",
        "You can specify the particular exception type that you want to catch and handle. This allows for more specific error handling and allows you to differentiate between different types of exceptions.\n",
        "\n",
        "Example:-"
      ],
      "metadata": {
        "id": "lESC_7P9nHng"
      }
    },
    {
      "cell_type": "code",
      "source": [
        "try:\n",
        "    num = int(input(\"Enter a number: \"))\n",
        "    result = 10 / num\n",
        "    print(\"Result:\", result)\n",
        "\n",
        "except ValueError:\n",
        "    print(\"Invalid input. Please enter a valid number.\")\n"
      ],
      "metadata": {
        "colab": {
          "base_uri": "https://localhost:8080/"
        },
        "id": "f0pYhGxHn0Yn",
        "outputId": "d5fba3f8-d87e-4144-e482-0b29ec43bba7"
      },
      "execution_count": 2,
      "outputs": [
        {
          "output_type": "stream",
          "name": "stdout",
          "text": [
            "Enter a number: b\n",
            "Invalid input. Please enter a valid number.\n"
          ]
        }
      ]
    },
    {
      "cell_type": "markdown",
      "source": [
        "In this example, if the user enters an invalid input (such as a non-numeric value), a ValueError will be raised when trying to convert the input to an integer.\n"
      ],
      "metadata": {
        "id": "ts_r8ysAnyVO"
      }
    },
    {
      "cell_type": "markdown",
      "source": [
        "#5. Can you have nested try-except blocks in Python? If yes, then give an example.\n",
        "Ans:-Yes, it is possible to have nested try-except blocks in Python"
      ],
      "metadata": {
        "id": "iXSEDGSMpmvh"
      }
    },
    {
      "cell_type": "code",
      "source": [
        "try:\n",
        "    # Outer try block\n",
        "    num1 = int(input(\"Enter the numerator: \"))\n",
        "    num2 = int(input(\"Enter the denominator: \"))\n",
        "\n",
        "    try:\n",
        "        # Inner try block\n",
        "        result = num1 / num2\n",
        "        print(\"Result:\", result)\n",
        "\n",
        "    except ZeroDivisionError:\n",
        "        # Inner except block\n",
        "        print(\"Error: Cannot divide by zero.\")\n",
        "\n",
        "    except ValueError:\n",
        "        # Inner except block\n",
        "        print(\"Error: Invalid input. Please enter integers.\")\n",
        "\n",
        "except Exception as e:\n",
        "    # Outer except block\n",
        "    print(\"An error occurred:\", str(e))\n",
        "\n"
      ],
      "metadata": {
        "colab": {
          "base_uri": "https://localhost:8080/"
        },
        "id": "t7frcxCyrKfa",
        "outputId": "9c2fb938-e707-4546-e261-94a08430fe83"
      },
      "execution_count": 16,
      "outputs": [
        {
          "output_type": "stream",
          "name": "stdout",
          "text": [
            "Enter the numerator: 25\n",
            "Enter the denominator: 0\n",
            "Error: Cannot divide by zero.\n"
          ]
        }
      ]
    },
    {
      "cell_type": "markdown",
      "source": [
        "#6. Can we use multiple exception blocks, if yes then give an example.\n",
        "Ans:- Yes we can use multiple exception blocks.\n",
        "\n",
        "Example:-\n"
      ],
      "metadata": {
        "id": "A64xJf0DwqSe"
      }
    },
    {
      "cell_type": "code",
      "source": [
        "try:\n",
        "    num = int(input(\"Enter a number: \"))\n",
        "    result = 10 / num\n",
        "    print(\"Result:\", result)\n",
        "\n",
        "except ValueError:\n",
        "    print(\"Invalid input. Please enter a valid number.\")\n",
        "\n",
        "except ZeroDivisionError:\n",
        "    print(\"Error: Cannot divide by zero.\")"
      ],
      "metadata": {
        "colab": {
          "base_uri": "https://localhost:8080/"
        },
        "id": "g-FaKNURvAhn",
        "outputId": "24772be8-208c-47d2-e6eb-5caf69920eb6"
      },
      "execution_count": 20,
      "outputs": [
        {
          "output_type": "stream",
          "name": "stdout",
          "text": [
            "Enter a number: m\n",
            "Invalid input. Please enter a valid number.\n"
          ]
        }
      ]
    },
    {
      "cell_type": "markdown",
      "source": [
        "#7. Write the reason due to which following errors are raised:\n",
        "**a. EOFError** :-\n",
        " This error is raised when an input operation reaches the end of a file or stream unexpectedly.\n",
        "\n",
        "**b. FloatingPointError** :-\n",
        "This error is raised when a floating-point operation fails or results in an exceptional condition.\n",
        "\n",
        "**c. IndexError** :-\n",
        "This error is raised when trying to access an index that is outside the bounds of a list, tuple, or any other sequence type.\n",
        "\n",
        "**d. MemoryError** :-\n",
        "This error is raised when an operation fails due to insufficient memory.\n",
        "\n",
        "**e. OverflowError** :-\n",
        "This error is raised when the result of an arithmetic operation is too large to be expressed.\n",
        "\n",
        "**f. TabError** :-\n",
        "This error is raised when there is an issue with the indentation of code using tabs and spaces inconsistently.\n",
        "\n",
        "**g. ValueError** :-\n",
        "This error is raised when a function receives an argument of the correct type but an invalid value."
      ],
      "metadata": {
        "id": "-8wainEmx9JM"
      }
    },
    {
      "cell_type": "markdown",
      "source": [
        "#8. Write code for the following given scenario and add try-exception block to it.\n",
        "**a.  Program to divide two numbers**\n"
      ],
      "metadata": {
        "id": "Um0pe_CBC-Jv"
      }
    },
    {
      "cell_type": "code",
      "source": [
        "try:\n",
        "    num1 = float(input(\"Enter the first number: \"))\n",
        "    num2 = float(input(\"Enter the second number: \"))\n",
        "\n",
        "    result = num1 / num2\n",
        "    print(\"The result of division is:\", result)\n",
        "except ZeroDivisionError:\n",
        "    print(\"Error: Cannot divide by zero.\")"
      ],
      "metadata": {
        "colab": {
          "base_uri": "https://localhost:8080/"
        },
        "id": "BqhH-Pc8xlmV",
        "outputId": "a1da1090-1980-4a13-a193-5a71905b8273"
      },
      "execution_count": 1,
      "outputs": [
        {
          "output_type": "stream",
          "name": "stdout",
          "text": [
            "Enter the first number: 18\n",
            "Enter the second number: 6\n",
            "The result of division is: 3.0\n"
          ]
        }
      ]
    },
    {
      "cell_type": "markdown",
      "source": [
        "**b. Program to convert a string to an integer**"
      ],
      "metadata": {
        "id": "7pWY6x_EHMbQ"
      }
    },
    {
      "cell_type": "code",
      "source": [
        "try:\n",
        "    string_num = input(f\"Enter a number as a string: \")\n",
        "    print(type(string_num))\n",
        "\n",
        "    num = int(string_num)\n",
        "    print(\"The converted integer is:\", num)\n",
        "    print(type(num))\n",
        "\n",
        "except ValueError:\n",
        "    print(\"Error: Invalid input. Please enter a valid number as a string.\")"
      ],
      "metadata": {
        "colab": {
          "base_uri": "https://localhost:8080/"
        },
        "id": "oMUA2beMHISx",
        "outputId": "f1e6fbd6-f90f-4ecb-ac0e-277227b70a0f"
      },
      "execution_count": 11,
      "outputs": [
        {
          "output_type": "stream",
          "name": "stdout",
          "text": [
            "Enter a number as a string: 123\n",
            "<class 'str'>\n",
            "The converted integer is: 123\n",
            "<class 'int'>\n"
          ]
        }
      ]
    },
    {
      "cell_type": "markdown",
      "source": [
        "**c. Program to access an element in a list:**"
      ],
      "metadata": {
        "id": "dvLALr70IhvM"
      }
    },
    {
      "cell_type": "code",
      "source": [
        "try:\n",
        "    my_list = [1, 2, 3, 4, 5]\n",
        "    index = int(input(\"Enter the index of the element you want to access: \"))\n",
        "\n",
        "    element = my_list[index]\n",
        "    print(\"The element at index\", index, \"is:\", element)\n",
        "\n",
        "except IndexError:\n",
        "    print(\"Error: Index out of range. Please enter a valid index.\")"
      ],
      "metadata": {
        "colab": {
          "base_uri": "https://localhost:8080/"
        },
        "id": "DazrJLWoHwUY",
        "outputId": "6b385ef8-9dda-4198-ca9e-2da5651a33aa"
      },
      "execution_count": 12,
      "outputs": [
        {
          "output_type": "stream",
          "name": "stdout",
          "text": [
            "Enter the index of the element you want to access: 3\n",
            "The element at index 3 is: 4\n"
          ]
        }
      ]
    },
    {
      "cell_type": "markdown",
      "source": [
        "**d. Program to handle a specific exception:**"
      ],
      "metadata": {
        "id": "vRHfy1idI8-h"
      }
    },
    {
      "cell_type": "code",
      "source": [
        "try:\n",
        "    age = int(input(\"Enter your age: \"))\n",
        "\n",
        "    if age < 0:\n",
        "        raise ValueError(\"Error: Age cannot be negative.\")\n",
        "    else:\n",
        "        print(\"Your age is:\", age)\n",
        "\n",
        "except ValueError as ve:\n",
        "    print(ve)"
      ],
      "metadata": {
        "colab": {
          "base_uri": "https://localhost:8080/"
        },
        "id": "Y8pTGamXI1Ca",
        "outputId": "743d59dc-ce61-4141-dddb-f754afa7d4b6"
      },
      "execution_count": 18,
      "outputs": [
        {
          "output_type": "stream",
          "name": "stdout",
          "text": [
            "Enter your age: -8\n",
            "Error: Age cannot be negative.\n"
          ]
        }
      ]
    },
    {
      "cell_type": "markdown",
      "source": [
        "**e. Program to handle any exception:**\n",
        "\n"
      ],
      "metadata": {
        "id": "F7bZ0wyJJc4L"
      }
    },
    {
      "cell_type": "code",
      "source": [
        "try:\n",
        "    num= int(input(\"Enter the numerator: \"))\n",
        "    deno= int(input(\"Enter the denominator: \"))\n",
        "\n",
        "    result = num/ deno\n",
        "    print(\"The result of division is:\", result)\n",
        "\n",
        "except Exception as e:\n",
        "    print(\"An error occurred:\", e)"
      ],
      "metadata": {
        "colab": {
          "base_uri": "https://localhost:8080/"
        },
        "id": "XlOllqn3JPR_",
        "outputId": "000a1f39-8538-46cf-8c33-15c786f773ff"
      },
      "execution_count": 21,
      "outputs": [
        {
          "output_type": "stream",
          "name": "stdout",
          "text": [
            "Enter the numerator: 85\n",
            "Enter the denominator: 0\n",
            "An error occurred: division by zero\n"
          ]
        }
      ]
    }
  ]
}