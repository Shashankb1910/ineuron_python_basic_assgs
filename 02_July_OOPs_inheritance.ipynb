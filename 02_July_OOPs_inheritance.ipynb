{
  "nbformat": 4,
  "nbformat_minor": 0,
  "metadata": {
    "colab": {
      "provenance": []
    },
    "kernelspec": {
      "name": "python3",
      "display_name": "Python 3"
    },
    "language_info": {
      "name": "python"
    }
  },
  "cells": [
    {
      "cell_type": "markdown",
      "source": [
        "# 1. Explain what inheritance is in object-oriented programming and why it is used.\n",
        "Ans:-\n",
        "\n",
        "* Inheritance is a fundamental concept in object-oriented programming that allows a class to inherit properties and methods from another class. In other words, a subclass can inherit the characteristics of its parent class.\n",
        "\n",
        "* Here is an example of inheritance. Let's say we have a class called Animal. This class has some properties, such as name, age, and species. It also has some methods, such as eat(), sleep(), and makeSound().\n",
        "\n",
        "  We can then create a new class called Dog that inherits from the Animal class. This means that the Dog class will have all of the properties and methods of the Animal class. In addition, the Dog class can also have its own properties and methods.\n",
        "\n",
        "* Inheritance is used to promote code reusability and to create a hierarchy of classes that share common attributes and behaviors. It allows developers to define a base class with common functionality and then create derived classes that add or override certain properties or methods. This can save time and effort in developing new classes, as well as promote consistency across an application."
      ],
      "metadata": {
        "id": "1EGJ_verLSXe"
      }
    },
    {
      "cell_type": "markdown",
      "source": [
        "# 2. Discuss the concept of single inheritance and multiple inheritance, highlighting their differences and advantages\n",
        "Ans:-\n",
        "\n",
        "* Single inheritance:-\n",
        "\n",
        "  Single inheritance refers to the concept of a class inheriting properties and methods from a single parent class. In other words, a subclass can only inherit from one superclass. This creates a linear hierarchy of classes, with each subclass inheriting from its parent class. Single inheritance is simple and easy to understand, which makes it a popular choice for many programming languages.\n",
        "\n",
        "  * The main advantage of single inheritance is that it is simple and easy to understand.\n",
        "  * It promotes code reusability and makes it easy to create a hierarchy of classes that share common functionality.\n",
        "  * Single inheritance is also less prone to errors and conflicts than multiple inheritance.\n",
        "\n",
        "\n",
        "* Multiple Inheritance:-\n",
        "\n",
        "  Multiple inheritance allows a class to inherit properties and methods from more than one parent class. This creates a more complex hierarchy of classes, with each subclass inheriting from multiple superclasses. Multiple inheritance can be useful in situations where a class needs to have characteristics from multiple sources, but it can also be more difficult to implement and maintain.\n",
        "\n",
        "  * The main advantage of multiple inheritance is that it allows a class to inherit characteristics from multiple sources, which can be useful in certain situations.\n",
        "  *  For example, a class that needs to implement both a GUI interface and a database interface could inherit from both a GUI superclass and a database superclass.\n",
        "  * However, multiple inheritance can be more difficult to implement and maintain, and it can lead to conflicts and errors if not carefully managed."
      ],
      "metadata": {
        "id": "hyDROa0ZWEMZ"
      }
    },
    {
      "cell_type": "markdown",
      "source": [
        "# 3. Explain the terms \"base class\" and \"derived class\" in the context of inheritance.\n",
        "Ans:-\n",
        "\n",
        "* In the context of inheritance, a base class (also known as a parent class or superclass) is a class that is used as the basis for creating a new class. The base class provides a set of properties and methods that can be inherited by the new class, which is known as a derived class (also known as a child class or subclass).\n",
        "\n",
        "* The derived class inherits all the properties and methods of the base class, and can also add its own unique properties and methods. This allows the derived class to extend or modify the behavior of the base class, while still retaining its core functionality.\n",
        "\n",
        "* For example, consider a base class called \"Animal\" that has properties such as \"name\" and \"age\", as well as methods such as \"eat\" and \"sleep\". A derived class called \"Dog\" could inherit these properties and methods from the Animal class, but also add its own unique properties such as \"breed\" and methods such as \"bark\".\n",
        "\n",
        "In summary, the base class is the class that is being inherited from, while the derived class is the new class that is being created based on the base class.\n",
        "\n",
        "\n"
      ],
      "metadata": {
        "id": "b8JKeliaZLki"
      }
    },
    {
      "cell_type": "markdown",
      "source": [
        "#4. What is the significance of the \"protected\" access modifier in inheritance? How does it differ from \"private\" and \"public\" modifiers?\n",
        "Ans:-\n",
        "\n",
        "* In inheritance, the \"protected\" access modifier is used to restrict access to class members (such as properties and methods) so that they can only be accessed within the class and its subclasses.\n",
        "\n",
        "* The \"protected\" modifier is similar to the \"private\" modifier, which also restricts access to class members. However, unlike \"private\", \"protected\" allows the class members to be accessed by subclasses of the class.\n",
        "On the other hand, the \"public\" access modifier allows class members to be accessed from anywhere, including outside the class and its subclasses.\n",
        "\n",
        "* The significance of the \"protected\" modifier is that it provides a way to encapsulate class members and restrict access to them, while still allowing subclasses to access and modify them if necessary. This promotes code reusability and makes it easier to maintain and modify code in the future.\n",
        "\n",
        "* For example, consider a base class called \"Vehicle\" that has a protected property called \"fuelLevel\". A derived class called \"Car\" could access and modify the \"fuelLevel\" property, but other classes outside the \"Vehicle\" hierarchy would not be able to access it. This allows for better control over how the property is used and modified within the class hierarchy."
      ],
      "metadata": {
        "id": "livrimAicXst"
      }
    },
    {
      "cell_type": "markdown",
      "source": [
        "# 5. What is the purpose of the \"super\" keyword in inheritance? Provide an example.\n",
        "Ans:-\n",
        "\n",
        "* In inheritance, the \"super\" keyword is used to refer to the parent class of a derived class. It can be used to call the constructor, methods, and properties of the parent class from within the derived class.\n",
        "\n",
        "* One common use of the \"super\" keyword is to call the constructor of the parent class from within the constructor of the derived class. This allows the derived class to inherit and initialize the properties of the parent class.\n",
        "\n",
        "Here's an example:\n"
      ],
      "metadata": {
        "id": "HxlVxZfmdadk"
      }
    },
    {
      "cell_type": "code",
      "execution_count": 1,
      "metadata": {
        "id": "22hahrOgIfKZ",
        "colab": {
          "base_uri": "https://localhost:8080/"
        },
        "outputId": "2ff3b8c8-1935-4e5d-b8b0-65db96ad3637"
      },
      "outputs": [
        {
          "output_type": "stream",
          "name": "stdout",
          "text": [
            "Tommy is eating.\n",
            "Tommy is barking.\n"
          ]
        }
      ],
      "source": [
        "class Animal:\n",
        "    def __init__(self, name):\n",
        "        self.name = name\n",
        "\n",
        "    def eat(self):\n",
        "        print(self.name + \" is eating.\")\n",
        "\n",
        "class Dog(Animal):\n",
        "    def __init__(self, name, breed):\n",
        "        super().__init__(name)  # Call the constructor of the parent class\n",
        "        self.breed = breed\n",
        "\n",
        "    def bark(self):\n",
        "        print(self.name + \" is barking.\")\n",
        "\n",
        "# Create a new Dog object and call its methods\n",
        "my_dog = Dog(\"Tommy\", \"Golden Retriever\")\n",
        "my_dog.eat()\n",
        "my_dog.bark()\n"
      ]
    },
    {
      "cell_type": "markdown",
      "source": [
        "In this example, the Animal class has an __init__ method that initializes the name property and an eat method. The Dog class extends the Animal class and adds a new property called breed. The __init__ method of the Dog class calls the __init__ method of the Animal class using the super() keyword, which sets the name property of the Animal class. The eat method is inherited from the Animal class, while the bark method is unique to the Dog class."
      ],
      "metadata": {
        "id": "WtF-6R8sejwJ"
      }
    },
    {
      "cell_type": "markdown",
      "source": [
        "# 6. Create a base class called \"Vehicle\" with attributes like \"make\", \"model\", and \"year\". Then, create a derived class called \"Car\" that inherits from \"Vehicle\" and adds an attribute called \"fuel_type\". Implement appropriate methods in both classes.\n",
        "Ans:-"
      ],
      "metadata": {
        "id": "j84gD5eRaAyj"
      }
    },
    {
      "cell_type": "code",
      "source": [
        "class Vehicle:\n",
        "    def __init__(self, make, model, year):\n",
        "        self.make = make\n",
        "        self.model = model\n",
        "        self.year = year\n",
        "\n",
        "    def display_info(self):\n",
        "        print(f\"Make: {self.make}\")\n",
        "        print(f\"Model: {self.model}\")\n",
        "        print(f\"Year: {self.year}\")\n",
        "\n",
        "\n",
        "class Car(Vehicle):\n",
        "    def __init__(self, make, model, year, fuel_type):\n",
        "        super().__init__(make, model, year)\n",
        "        self.fuel_type = fuel_type\n",
        "\n",
        "    def display_info(self):\n",
        "        super().display_info()\n",
        "        print(f\"Fuel Type: {self.fuel_type}\")\n"
      ],
      "metadata": {
        "id": "73dRXytpeYes"
      },
      "execution_count": 1,
      "outputs": []
    },
    {
      "cell_type": "code",
      "source": [
        "# Creating instances of the Car class\n",
        "car1 = Car(\"Toyota\", \"Corolla\", 2022, \"Gasoline\")\n",
        "car2 = Car(\"Tesla\", \"Model S\", 2023, \"Electric\")"
      ],
      "metadata": {
        "id": "C0X9Xy9VbVmK"
      },
      "execution_count": 2,
      "outputs": []
    },
    {
      "cell_type": "code",
      "source": [
        "# Accessing attributes and methods of the Car class\n",
        "car1.display_info()\n",
        "print()\n",
        "car2.display_info()"
      ],
      "metadata": {
        "colab": {
          "base_uri": "https://localhost:8080/"
        },
        "id": "m8CAwg6nbZZ4",
        "outputId": "6a45f5fd-48ee-4828-df99-b2b793d46066"
      },
      "execution_count": 3,
      "outputs": [
        {
          "output_type": "stream",
          "name": "stdout",
          "text": [
            "Make: Toyota\n",
            "Model: Corolla\n",
            "Year: 2022\n",
            "Fuel Type: Gasoline\n",
            "\n",
            "Make: Tesla\n",
            "Model: Model S\n",
            "Year: 2023\n",
            "Fuel Type: Electric\n"
          ]
        }
      ]
    },
    {
      "cell_type": "markdown",
      "source": [
        "# 7. Create a base class called \"Employee\" with attributes like \"name\" and \"salary.\" Derive two classes, \"Manager\" and \"Developer,\" from \"Employee.\" Add an additional attribute called \"department\" for the \"Manager\" class and \"programming_language\" for the \"Developer\" class.\n",
        "Ans:-"
      ],
      "metadata": {
        "id": "ezGzAw26bi4E"
      }
    },
    {
      "cell_type": "code",
      "source": [
        "class Employee:\n",
        "  def __init__(self, name, salary):\n",
        "     self.name = name\n",
        "     self.salary = salary\n",
        "\n",
        "  def display_info(self):\n",
        "        print(f\"Name: {self.name}\")\n",
        "        print(f\"Salary: {self.salary}\")\n",
        "\n",
        "class Manager(Employee):\n",
        "    def __init__(self, name,salary, department):\n",
        "      super().__init__(name,salary)\n",
        "      self.department = department\n",
        "\n",
        "    def display_info(self):\n",
        "        super().display_info()\n",
        "        print(f\"Department: {self.department}\")\n",
        "\n",
        "class Developer(Employee):\n",
        "    def __init__ (self,name,salary,programming_language):\n",
        "        super().__init__(name, salary)\n",
        "        self.programming_language = programming_language\n",
        "\n",
        "    def display_info(self):\n",
        "        super().display_info()\n",
        "        print(f\"Programming Language: {self.programming_language}\")\n",
        ""
      ],
      "metadata": {
        "id": "QGDT6EN0bbob"
      },
      "execution_count": 4,
      "outputs": []
    },
    {
      "cell_type": "code",
      "source": [
        "# Creating instances of the Manager and Developer classes\n",
        "manager = Manager(\"natu kaka\", 30000, \"Sales\")\n",
        "developer = Developer(\"baga\", 15000, \"python\")"
      ],
      "metadata": {
        "id": "92tsBSYqeYEC"
      },
      "execution_count": 5,
      "outputs": []
    },
    {
      "cell_type": "code",
      "source": [
        "manager.display_info()\n",
        "print()\n",
        "developer.display_info()\n"
      ],
      "metadata": {
        "colab": {
          "base_uri": "https://localhost:8080/"
        },
        "id": "k_a_bXEieuDY",
        "outputId": "e9495e89-9698-419e-f705-c4d6aaea9869"
      },
      "execution_count": 6,
      "outputs": [
        {
          "output_type": "stream",
          "name": "stdout",
          "text": [
            "Name: natu kaka\n",
            "Salary: 30000\n",
            "Department: Sales\n",
            "\n",
            "Name: baga\n",
            "Salary: 15000\n",
            "Programming Language: python\n"
          ]
        }
      ]
    },
    {
      "cell_type": "markdown",
      "source": [
        "# 8. Design a base class called \"Shape\" with attributes like \"colour\" and \"border_width.\" Create derived classes, \"Rectangle\" and \"Circle,\" that inherit from \"Shape\" and add specific attributes like \"length\" and \"width\" for the \"Rectangle\" class and \"radius\" for the \"Circle\" class.\n",
        "Ans:-"
      ],
      "metadata": {
        "id": "EknmxxjufK1T"
      }
    },
    {
      "cell_type": "code",
      "source": [
        "class Shape:\n",
        "    def __init__(self, colour , border_width):\n",
        "        self.colour = colour\n",
        "        self.border_width  = border_width\n",
        "\n",
        "    def display_info(self):\n",
        "        print(f\"Colour: {self.colour}\")\n",
        "        print(f\"border_width: {self.border_width}\")\n",
        "\n",
        "class Rectangle(Shape):\n",
        "    def __init__(self , colour , border_width, length , width):\n",
        "        super().__init__(colour , border_width)\n",
        "        self.length = length\n",
        "        self.border_width = border_width\n",
        "\n",
        "    def display_info(self):\n",
        "        super().display_info()\n",
        "        print(f\"Length {self.length}\")\n",
        "        print(f\"Border_width {self.border_width}\")\n",
        "\n",
        "class Circle(Shape):\n",
        "  def __init__(self ,  colour , border_width, radius):\n",
        "      super().__init__(colour , border_width)\n",
        "      self.radius = radius\n",
        "\n",
        "      def display_info(self):\n",
        "        super().display_info()\n",
        "        print(f\"Radius{self.radius}\")"
      ],
      "metadata": {
        "id": "DYfdG55XewNG"
      },
      "execution_count": 10,
      "outputs": []
    },
    {
      "cell_type": "code",
      "source": [
        "# Creating instances of the Rectangle and Circle classes\n",
        "rectangle = Rectangle(\"Red\", 2, 6, 8)\n",
        "circle = Circle(\"Blue\", 3, 7)"
      ],
      "metadata": {
        "id": "yMA8w0fChiMP"
      },
      "execution_count": 11,
      "outputs": []
    },
    {
      "cell_type": "code",
      "source": [
        "# Accessing attributes and methods of the Rectangle and Circle classes\n",
        "rectangle.display_info()\n",
        "print()\n",
        "circle.display_info()"
      ],
      "metadata": {
        "colab": {
          "base_uri": "https://localhost:8080/"
        },
        "id": "Pp3gSL9phxfX",
        "outputId": "15c05b85-0853-4c2b-ba61-baccb5f55e0e"
      },
      "execution_count": 12,
      "outputs": [
        {
          "output_type": "stream",
          "name": "stdout",
          "text": [
            "Colour: Red\n",
            "border_width: 2\n",
            "Length 6\n",
            "Border_width 2\n",
            "\n",
            "Colour: Blue\n",
            "border_width: 3\n"
          ]
        }
      ]
    },
    {
      "cell_type": "markdown",
      "source": [
        "# 9. Create a base class called \"Device\" with attributes like \"brand\" and \"model.\" Derive two classes, \"Phone\" and \"Tablet,\" from \"Device.\" Add specific attributes like \"screen_size\" for the \"Phone\" class and \"battery_capacity\" for the \"Tablet\" class.\n",
        "Ans:-"
      ],
      "metadata": {
        "id": "nvDwaDfeiSXy"
      }
    },
    {
      "cell_type": "code",
      "source": [
        "class Device:\n",
        "    def __init__(self, brand, model):\n",
        "        self.brand = brand\n",
        "        self.model = model\n",
        "\n",
        "    def display_info(self):\n",
        "        print(f\"Brand: {self.brand}\")\n",
        "        print(f\"Model: {self.model}\")\n",
        "\n",
        "\n",
        "class Phone(Device):\n",
        "    def __init__(self, brand, model, screen_size):\n",
        "        super().__init__(brand, model)\n",
        "        self.screen_size = screen_size\n",
        "\n",
        "    def display_info(self):\n",
        "        super().display_info()\n",
        "        print(f\"Screen Size: {self.screen_size}\")\n",
        "\n",
        "\n",
        "class Tablet(Device):\n",
        "    def __init__(self, brand, model, battery_capacity):\n",
        "        super().__init__(brand, model)\n",
        "        self.battery_capacity = battery_capacity\n",
        "\n",
        "    def display_info(self):\n",
        "        super().display_info()\n",
        "        print(f\"Battery Capacity: {self.battery_capacity}\")"
      ],
      "metadata": {
        "id": "o8z8n7JliJGt"
      },
      "execution_count": 13,
      "outputs": []
    },
    {
      "cell_type": "code",
      "source": [
        "# Creating instances of the Phone and Tablet classes\n",
        "phone = Phone(\"Apple\", \"iPhone 12\", \"6.1 inches\")\n",
        "tablet = Tablet(\"Samsung\", \"Galaxy Tab S7\", \"8000 mAh\")"
      ],
      "metadata": {
        "id": "qRXFeEGLijtI"
      },
      "execution_count": 14,
      "outputs": []
    },
    {
      "cell_type": "code",
      "source": [
        "# Accessing attributes and methods of the Phone and Tablet classes\n",
        "phone.display_info()\n",
        "print()\n",
        "tablet.display_info()"
      ],
      "metadata": {
        "colab": {
          "base_uri": "https://localhost:8080/"
        },
        "id": "20D3Fm0iilu4",
        "outputId": "7e027b8f-c42b-482f-8736-a4d5251c9a70"
      },
      "execution_count": 15,
      "outputs": [
        {
          "output_type": "stream",
          "name": "stdout",
          "text": [
            "Brand: Apple\n",
            "Model: iPhone 12\n",
            "Screen Size: 6.1 inches\n",
            "\n",
            "Brand: Samsung\n",
            "Model: Galaxy Tab S7\n",
            "Battery Capacity: 8000 mAh\n"
          ]
        }
      ]
    },
    {
      "cell_type": "markdown",
      "source": [
        "# 10. Create a base class called \"BankAccount\" with attributes like \"account_number\" and \"balance.\" Derive two classes, \"SavingsAccount\" and \"CheckingAccount,\" from \"BankAccount.\" Add specific methods like \"calculate_interest\" for the \"SavingsAccount\" class and \"deduct_fees\" for the \"CheckingAccount\" class.\n",
        "Ans:-\n"
      ],
      "metadata": {
        "id": "G5tWl2TXixTX"
      }
    },
    {
      "cell_type": "code",
      "source": [
        "class BankAccount:\n",
        "    def __init__(self, account_number, balance):\n",
        "        self.account_number = account_number\n",
        "        self.balance = balance\n",
        "\n",
        "    def display_info(self):\n",
        "        print(f\"Account Number: {self.account_number}\")\n",
        "        print(f\"Balance: ${self.balance:.2f}\")\n",
        "\n",
        "\n",
        "class SavingsAccount(BankAccount):\n",
        "    def __init__(self, account_number, balance):\n",
        "        super().__init__(account_number, balance)\n",
        "\n",
        "    def calculate_interest(self, interest_rate):\n",
        "        interest = self.balance * (interest_rate / 100)\n",
        "        self.balance += interest\n",
        "\n",
        "\n",
        "class CheckingAccount(BankAccount):\n",
        "    def __init__(self, account_number, balance):\n",
        "        super().__init__(account_number, balance)\n",
        "\n",
        "    def deduct_fees(self, fee_amount):\n",
        "        if self.balance >= fee_amount:\n",
        "            self.balance -= fee_amount"
      ],
      "metadata": {
        "id": "wk3HlTfginIT"
      },
      "execution_count": 16,
      "outputs": []
    },
    {
      "cell_type": "code",
      "source": [
        "# Creating instances of the SavingsAccount and CheckingAccount classes\n",
        "savings_account = SavingsAccount(\"4862578568\", 1000)\n",
        "checking_account = CheckingAccount(\"5444481577\", 500)"
      ],
      "metadata": {
        "id": "MBPrzTFDjfuj"
      },
      "execution_count": 20,
      "outputs": []
    },
    {
      "cell_type": "code",
      "source": [
        "# Accessing attributes and methods of the SavingsAccount and CheckingAccount classes\n",
        "savings_account.display_info()\n",
        "savings_account.calculate_interest(2.5)\n",
        "savings_account.display_info()\n",
        "print()\n",
        "checking_account.display_info()\n",
        "checking_account.deduct_fees(100)\n",
        "checking_account.display_info()"
      ],
      "metadata": {
        "colab": {
          "base_uri": "https://localhost:8080/"
        },
        "id": "5Sk5-6p_jr2_",
        "outputId": "ad5d615f-6325-40bd-a355-7c58c829ba29"
      },
      "execution_count": 21,
      "outputs": [
        {
          "output_type": "stream",
          "name": "stdout",
          "text": [
            "Account Number: 4862578568\n",
            "Balance: $1000.00\n",
            "Account Number: 4862578568\n",
            "Balance: $1025.00\n",
            "\n",
            "Account Number: 5444481577\n",
            "Balance: $500.00\n",
            "Account Number: 5444481577\n",
            "Balance: $400.00\n"
          ]
        }
      ]
    },
    {
      "cell_type": "code",
      "source": [],
      "metadata": {
        "id": "R9NWRnknjvZO"
      },
      "execution_count": null,
      "outputs": []
    }
  ]
}