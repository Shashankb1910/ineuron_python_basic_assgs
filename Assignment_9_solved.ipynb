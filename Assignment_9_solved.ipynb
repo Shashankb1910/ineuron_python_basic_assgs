{
  "nbformat": 4,
  "nbformat_minor": 0,
  "metadata": {
    "colab": {
      "provenance": []
    },
    "kernelspec": {
      "name": "python3",
      "display_name": "Python 3"
    },
    "language_info": {
      "name": "python"
    }
  },
  "cells": [
    {
      "cell_type": "markdown",
      "source": [
        "# 1.\tWhat is a lambda function in Python, and how does it differ from a regular function?\n",
        "\n",
        "Ans:-\n",
        "\n",
        "    \n",
        " Lambda functions are also known as anonymous functions, they are small, one-line functions that don't have a name and are defined using the lambda keyword. They can take any number of arguments but can only have a single expression. The result of the expression is automatically returned.\n",
        "\n",
        "Lambda functions have a few key differences compared to regular functions:\n",
        "\n",
        "\n",
        "1.   Anonymous: Lambda functions don't have a name. They are defined on the spot and don't require a separate **def** statement like regular functions.\n",
        "2.   \n",
        "Single expression: Lambda functions are limited to a single expression. They are designed for simple computations that can be expressed in one line.\n",
        "\n",
        "1.   Concise syntax: Lambda functions have a more compact syntax compared to regular functions, making them useful for short, one-off operations.\n",
        "2.   Limited functionality: Due to their simplicity, lambda functions can only contain expressions, not statements like **if, for, or while**. This restriction is imposed by the lambda syntax.\n",
        "\n",
        "Example:-\n"
      ],
      "metadata": {
        "id": "y0BoCy3v8imm"
      }
    },
    {
      "cell_type": "markdown",
      "source": [],
      "metadata": {
        "id": "C1G0PSgb94mQ"
      }
    },
    {
      "cell_type": "code",
      "source": [
        "add = lambda x, y: x + y\n",
        "print(add(8, 2))  # Output: 10\n"
      ],
      "metadata": {
        "colab": {
          "base_uri": "https://localhost:8080/"
        },
        "id": "aLauToC390lR",
        "outputId": "79cbf90d-1f33-4a89-ec0f-15aee28da6d8"
      },
      "execution_count": 1,
      "outputs": [
        {
          "output_type": "stream",
          "name": "stdout",
          "text": [
            "10\n"
          ]
        }
      ]
    },
    {
      "cell_type": "markdown",
      "source": [
        "# 2.\tCan a lambda function in Python have multiple arguments? If yes, how can you define and use them?\n",
        "Ans:-\n",
        "Yes, a lambda function in Python can have multiple arguments.\n",
        "Each argument is separated by a comma within the parentheses. You can have as many arguments as needed.\n",
        "\n",
        "\n",
        "Here's an example of a lambda function with multiple arguments:"
      ],
      "metadata": {
        "id": "OP0Uy-IzEF5j"
      }
    },
    {
      "cell_type": "code",
      "source": [
        "add = lambda x , y , z : x + y + z\n",
        "print(add(5 , 10 , 5))"
      ],
      "metadata": {
        "colab": {
          "base_uri": "https://localhost:8080/"
        },
        "id": "WdrP-Y3kF3f2",
        "outputId": "eadf7ec5-4ec7-4b19-9003-feacf8b1bf67"
      },
      "execution_count": 2,
      "outputs": [
        {
          "output_type": "stream",
          "name": "stdout",
          "text": [
            "20\n"
          ]
        }
      ]
    },
    {
      "cell_type": "markdown",
      "source": [
        "# 3.\tHow are lambda functions typically used in Python? Provide an example use case.\n",
        "Ans:-\n",
        "\n",
        "\n",
        "*   Lambda functions are especially useful when you want to define a small function to pass as an argument to another function.\n",
        "*   Lambda functions are particularly useful in situations where we need a simple function for a specific task, such as sorting, filtering, or mapping data.\n",
        "\n",
        "Example:-"
      ],
      "metadata": {
        "id": "s6p_7pO05gEO"
      }
    },
    {
      "cell_type": "code",
      "source": [
        "# Sorting a list of tuples based on a specific element\n",
        "\n",
        "students = [\n",
        "    ('sonu', 24, 'A'),\n",
        "    ('tapu',19, 'B'),\n",
        "    ('goli', 18, 'B'),\n",
        "    ('pinku', 20, 'B+')\n",
        "]\n",
        "\n",
        "# Sort the list of students based on their age (second element of each tuple)\n",
        "sorted_students = sorted(students, key=lambda x: x[1])\n",
        "print(sorted_students)"
      ],
      "metadata": {
        "colab": {
          "base_uri": "https://localhost:8080/"
        },
        "id": "S1mlP4m0GqWQ",
        "outputId": "c34681e5-daf8-4129-810f-2ec793d917ed"
      },
      "execution_count": 3,
      "outputs": [
        {
          "output_type": "stream",
          "name": "stdout",
          "text": [
            "[('goli', 18, 'B'), ('tapu', 19, 'B'), ('pinku', 20, 'B+'), ('sonu', 24, 'A')]\n"
          ]
        }
      ]
    },
    {
      "cell_type": "markdown",
      "source": [
        "# 4.\tWhat are the advantages and limitations of lambda functions compared to regular functions in Python?\n",
        "Ans:-\n",
        "***Advantages of lambda functions are as follows:-***\n",
        "\n",
        "*   Lambda functions allow you to write function-like expressions in a more compact and concise manner.\n",
        "*   Lambda functions do not require a return statement, the expression is implicitly returned.\n",
        "*They can be used wherever function objects are required, like inside functions like map(), filter(), and reduce().\n",
        "\n",
        "***Limitations of lambda function are as follows:-***\n",
        "\n",
        "* Lambda functions are limited to a single expression.\n",
        "*You can't include statements like loops, if, or else in lambda functions; only expressions are allowed.\n",
        "*For clarity, most Python functions and modules contain documentation, which is another drawback of the Lambda function."
      ],
      "metadata": {
        "id": "vekpJ5Gw7pyJ"
      }
    },
    {
      "cell_type": "markdown",
      "source": [
        "# 5.\tAre lambda functions in Python able to access variables defined outside of their own scope? Explain with an example.\n",
        "\n",
        "Ans:-       \n",
        "Yes, lambda functions in Python can access variables defined outside of their own scope.\n",
        "\n",
        "Example:-"
      ],
      "metadata": {
        "id": "n5hqfSYh_Rqe"
      }
    },
    {
      "cell_type": "code",
      "source": [
        "def outer_function():\n",
        "    x = 15\n",
        "\n",
        "    # Define a lambda function\n",
        "    lambda_function = lambda y: x + y\n",
        "\n",
        "    return lambda_function\n",
        "\n",
        "# Call the outer function to get the lambda function\n",
        "my_lambda = outer_function()\n",
        "\n",
        "# Call the lambda function with an argument\n",
        "result = my_lambda(5)\n",
        "\n",
        "print(result)"
      ],
      "metadata": {
        "colab": {
          "base_uri": "https://localhost:8080/"
        },
        "id": "zrpEBvIV7caL",
        "outputId": "08f8b87d-6144-4028-8c66-c1cbcbb1bd90"
      },
      "execution_count": 4,
      "outputs": [
        {
          "output_type": "stream",
          "name": "stdout",
          "text": [
            "20\n"
          ]
        }
      ]
    },
    {
      "cell_type": "markdown",
      "source": [
        "# 6.\tWrite a lambda function to calculate the square of a given number."
      ],
      "metadata": {
        "id": "g9jaCFRrHUMy"
      }
    },
    {
      "cell_type": "code",
      "source": [
        "square = lambda x: x ** 2\n",
        "print(square(4))"
      ],
      "metadata": {
        "colab": {
          "base_uri": "https://localhost:8080/"
        },
        "id": "ynQ7-YUmHE8X",
        "outputId": "283c5831-046e-477f-f7ff-1d2f026f7b59"
      },
      "execution_count": 5,
      "outputs": [
        {
          "output_type": "stream",
          "name": "stdout",
          "text": [
            "16\n"
          ]
        }
      ]
    },
    {
      "cell_type": "markdown",
      "source": [
        "# 7.\tCreate a lambda function to find the maximum value in a list of integers."
      ],
      "metadata": {
        "id": "Zi5FcDS6HjkW"
      }
    },
    {
      "cell_type": "code",
      "source": [
        "my_list = [24 , 45 , 13 , 98 , 74]\n",
        "max = max(my_list, key=lambda x:int(x))\n",
        "print(max)"
      ],
      "metadata": {
        "colab": {
          "base_uri": "https://localhost:8080/"
        },
        "id": "wKNkEin_HhJe",
        "outputId": "c1c076f4-dca0-4c86-e6af-8017cbc178c4"
      },
      "execution_count": 6,
      "outputs": [
        {
          "output_type": "stream",
          "name": "stdout",
          "text": [
            "98\n"
          ]
        }
      ]
    },
    {
      "cell_type": "markdown",
      "source": [
        "# 8.\tImplement a lambda function to filter out all the even numbers from a list of integers."
      ],
      "metadata": {
        "id": "TJNGFcIMNA_1"
      }
    },
    {
      "cell_type": "code",
      "source": [
        "numbers = [42, 87, 23, 98, 62, 77, 55, 12]\n",
        "even_num = list(filter(lambda x: x % 2 == 0, numbers))\n",
        "\n",
        "print(even_num)"
      ],
      "metadata": {
        "colab": {
          "base_uri": "https://localhost:8080/"
        },
        "id": "lWVZO6QYJWXA",
        "outputId": "ae23d822-aa4c-4b3d-a9a7-4b0256f73614"
      },
      "execution_count": 8,
      "outputs": [
        {
          "output_type": "stream",
          "name": "stdout",
          "text": [
            "[42, 98, 62, 12]\n"
          ]
        }
      ]
    },
    {
      "cell_type": "markdown",
      "source": [
        "# 9.\tWrite a lambda function to sort a list of strings in ascending order based on the length of each string."
      ],
      "metadata": {
        "id": "wrMMnKh0NtZu"
      }
    },
    {
      "cell_type": "code",
      "source": [
        "strings = [\"apple\", \"banana\", \"cherry\", \"date\", \"blueberry\"]\n",
        "\n",
        "sorted_strings = sorted(strings, key=lambda x: len(x))\n",
        "print(sorted_strings)"
      ],
      "metadata": {
        "colab": {
          "base_uri": "https://localhost:8080/"
        },
        "id": "_UpzyCgtJ70a",
        "outputId": "4c40b8b0-5065-4675-e6b6-34c66d336c25"
      },
      "execution_count": 10,
      "outputs": [
        {
          "output_type": "stream",
          "name": "stdout",
          "text": [
            "['date', 'apple', 'banana', 'cherry', 'blueberry']\n"
          ]
        }
      ]
    },
    {
      "cell_type": "markdown",
      "source": [
        "# 10.\tCreate a lambda function that takes two lists as input and returns a new list containing the common elements between the two lists.\n",
        "Ans:-\n"
      ],
      "metadata": {
        "id": "6Lkg1IOItPgx"
      }
    },
    {
      "cell_type": "code",
      "source": [
        "list1 = [15 , 24 , 85 , 72 , 98]\n",
        "list2 = [49, 72, 67, 15, 87]\n",
        "common_elements = lambda list1, list2: list(filter(lambda x: x in list1, list2))\n",
        "result = common_elements(list1, list2)\n",
        "print(result)"
      ],
      "metadata": {
        "colab": {
          "base_uri": "https://localhost:8080/"
        },
        "id": "yjZJJMl8RQ4b",
        "outputId": "e8b06ede-f061-4002-b2b1-34b870358c68"
      },
      "execution_count": 5,
      "outputs": [
        {
          "output_type": "stream",
          "name": "stdout",
          "text": [
            "[72, 15]\n"
          ]
        }
      ]
    },
    {
      "cell_type": "markdown",
      "source": [
        "# 11.\tWrite a recursive function to calculate the factorial of a given positive integer."
      ],
      "metadata": {
        "id": "qyH-RNxBvHzk"
      }
    },
    {
      "cell_type": "code",
      "source": [
        "def recursive_sum(n):\n",
        "    if n == 1:\n",
        "        return 1\n",
        "    else:\n",
        "        return n * recursive_sum(n - 1)\n",
        "\n",
        "print(recursive_sum(5))"
      ],
      "metadata": {
        "colab": {
          "base_uri": "https://localhost:8080/"
        },
        "id": "RgerpndUt_8q",
        "outputId": "475167cd-bdb2-44b0-8387-849396967ad2"
      },
      "execution_count": 14,
      "outputs": [
        {
          "output_type": "stream",
          "name": "stdout",
          "text": [
            "120\n"
          ]
        }
      ]
    },
    {
      "cell_type": "markdown",
      "source": [
        "#12.\tImplement a recursive function to compute the nth Fibonacci number."
      ],
      "metadata": {
        "id": "Z2Q8u0Pxwp3l"
      }
    },
    {
      "cell_type": "code",
      "source": [
        "def fibonacci(n):\n",
        "    if n <= 0:\n",
        "        return 0\n",
        "    elif n == 1:\n",
        "        return 1\n",
        "    else:\n",
        "        return fibonacci(n - 1) + fibonacci(n - 2)\n",
        "\n",
        "n=10\n",
        "print(fibonacci(n))"
      ],
      "metadata": {
        "colab": {
          "base_uri": "https://localhost:8080/"
        },
        "id": "N__6s_sevi5A",
        "outputId": "e1e4e970-7f5c-4780-8c84-6cbd17e4b554"
      },
      "execution_count": 17,
      "outputs": [
        {
          "output_type": "stream",
          "name": "stdout",
          "text": [
            "55\n"
          ]
        }
      ]
    },
    {
      "cell_type": "markdown",
      "source": [
        "#13.\tCreate a recursive function to find the sum of all the elements in a given list."
      ],
      "metadata": {
        "id": "4fmSuo7izh9t"
      }
    },
    {
      "cell_type": "code",
      "source": [
        "def recursive_sum(lst):\n",
        "    if len(lst) == 0:\n",
        "        return 0\n",
        "    else:\n",
        "        return lst[0] + recursive_sum(lst[1:])\n",
        "\n",
        "my_list = [1, 2, 3, 4, 5]\n",
        "result = recursive_sum(my_list)\n",
        "print(result)"
      ],
      "metadata": {
        "colab": {
          "base_uri": "https://localhost:8080/"
        },
        "id": "ZW7jwPIz1LPo",
        "outputId": "a0b31cd9-1984-4667-d99b-94bca9224573"
      },
      "execution_count": 19,
      "outputs": [
        {
          "output_type": "stream",
          "name": "stdout",
          "text": [
            "15\n"
          ]
        }
      ]
    },
    {
      "cell_type": "markdown",
      "source": [
        "# 14.\tWrite a recursive function to determine whether a given string is a palindrome."
      ],
      "metadata": {
        "id": "53dmHF7s1iFv"
      }
    },
    {
      "cell_type": "code",
      "source": [
        "def is_palindrome(string):\n",
        "    # Base case: an empty string or a string with a single character is a palindrome\n",
        "    if len(string) <= 1:\n",
        "        return True\n",
        "\n",
        "    # Recursive case: check if the first and last characters are the same\n",
        "    if string[0] == string[-1]:\n",
        "        # Remove the first and last characters and recursively check the remaining substring\n",
        "        return is_palindrome(string[1:-1])\n",
        "    else:\n",
        "        return False\n",
        "\n",
        "print(is_palindrome(\"radar\"))   # True\n",
        "print(is_palindrome(\"hello\"))   # False\n",
        "print(is_palindrome(\"madam\"))   # True\n",
        "print(is_palindrome(\"python\"))  # False"
      ],
      "metadata": {
        "colab": {
          "base_uri": "https://localhost:8080/"
        },
        "id": "XxfsNjmH1Yhg",
        "outputId": "d64b3c6a-1805-46d3-a86f-f14f6b749325"
      },
      "execution_count": 20,
      "outputs": [
        {
          "output_type": "stream",
          "name": "stdout",
          "text": [
            "True\n",
            "False\n",
            "True\n",
            "False\n"
          ]
        }
      ]
    },
    {
      "cell_type": "markdown",
      "source": [
        "#15.\tImplement a recursive function to find the greatest common divisor (GCD) of two positive integers."
      ],
      "metadata": {
        "id": "ZniGGbsf228Y"
      }
    },
    {
      "cell_type": "code",
      "source": [
        "def gcd_recursive(a, b):\n",
        "    if b == 0:\n",
        "        return a\n",
        "    else:\n",
        "        return gcd_recursive(b, a % b)\n",
        "\n",
        "a = 26\n",
        "b = 18\n",
        "result = gcd_recursive(a, b)\n",
        "print(\"GCD of\", a, \"and\", b, \"is:\", result)"
      ],
      "metadata": {
        "colab": {
          "base_uri": "https://localhost:8080/"
        },
        "id": "qniDrgKL2mC1",
        "outputId": "5db751c0-9dcd-43ca-cc68-8bb69a0d92a0"
      },
      "execution_count": 24,
      "outputs": [
        {
          "output_type": "stream",
          "name": "stdout",
          "text": [
            "GCD of 26 and 18 is: 2\n"
          ]
        }
      ]
    },
    {
      "cell_type": "code",
      "source": [],
      "metadata": {
        "id": "Sa7ge6993hUM"
      },
      "execution_count": null,
      "outputs": []
    }
  ]
}